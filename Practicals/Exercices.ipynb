{
 "cells": [
  {
   "cell_type": "markdown",
   "id": "d11279bb",
   "metadata": {},
   "source": [
    "<hr style=\"border-top: 1px solid #001a79;\" />\n",
    "\n",
    "The above gives about a 1.5% chance of randomly selecting the correct cups. Calculate the minimum number of cups of tea required to ensure the probability of randomly selecting the correct cups is less than or equal to 1%."
   ]
  },
  {
   "cell_type": "code",
   "execution_count": 2,
   "id": "a160410e",
   "metadata": {},
   "outputs": [],
   "source": [
    "# Math module\n",
    "import math"
   ]
  },
  {
   "cell_type": "code",
   "execution_count": 3,
   "id": "2c14d625",
   "metadata": {},
   "outputs": [
    {
     "data": {
      "text/plain": [
       "70"
      ]
     },
     "execution_count": 3,
     "metadata": {},
     "output_type": "execute_result"
    }
   ],
   "source": [
    "# Number of ways of selecting 4 out of 8 cups.\n",
    "math.comb(8,4)"
   ]
  },
  {
   "cell_type": "code",
   "execution_count": 5,
   "id": "027e5151",
   "metadata": {
    "scrolled": true
   },
   "outputs": [
    {
     "data": {
      "text/plain": [
       "0.014285714285714285"
      ]
     },
     "execution_count": 5,
     "metadata": {},
     "output_type": "execute_result"
    }
   ],
   "source": [
    "# Probability of randomly selecting correct 4 cups is: \n",
    "1.0 / math.comb(8,4)"
   ]
  },
  {
   "cell_type": "code",
   "execution_count": 8,
   "id": "32f63c51",
   "metadata": {},
   "outputs": [
    {
     "data": {
      "text/plain": [
       "126"
      ]
     },
     "execution_count": 8,
     "metadata": {},
     "output_type": "execute_result"
    }
   ],
   "source": [
    "# Number of ways of selecting 4 out of 9 cups.\n",
    "math.comb(9,4)"
   ]
  },
  {
   "cell_type": "code",
   "execution_count": 9,
   "id": "88305a85",
   "metadata": {},
   "outputs": [
    {
     "data": {
      "text/plain": [
       "0.007936507936507936"
      ]
     },
     "execution_count": 9,
     "metadata": {},
     "output_type": "execute_result"
    }
   ],
   "source": [
    "# Probability of randomly selecting correct 4 cups from 9 is: \n",
    "1.0 / math.comb(9,4)"
   ]
  },
  {
   "cell_type": "markdown",
   "id": "eaf99674",
   "metadata": {},
   "source": [
    "If this experiment was done with 9 cups total, with 4 cups where milk was poured first, then the chance of selecteing these 4 cups correctly randomly is less than 1%. \n"
   ]
  },
  {
   "cell_type": "markdown",
   "id": "eb66281c",
   "metadata": {},
   "source": [
    "*Bonus:* How many would be required if you were to let the taster get one cup wrong while maintaining the 1% threshold?"
   ]
  },
  {
   "cell_type": "code",
   "execution_count": 28,
   "id": "8abab7db",
   "metadata": {},
   "outputs": [
    {
     "data": {
      "text/plain": [
       "84"
      ]
     },
     "execution_count": 28,
     "metadata": {},
     "output_type": "execute_result"
    }
   ],
   "source": [
    "# Chosing 1 wrong then 3 right is equivalent to chosing 3 correctly. \n",
    "# Number of ways of selecting 3 out of 9 cups.\n",
    "math.comb(9,3)"
   ]
  },
  {
   "cell_type": "code",
   "execution_count": 29,
   "id": "8935b71d",
   "metadata": {},
   "outputs": [
    {
     "data": {
      "text/plain": [
       "0.011904761904761904"
      ]
     },
     "execution_count": 29,
     "metadata": {},
     "output_type": "execute_result"
    }
   ],
   "source": [
    "# Probability of randomly selecting correct 3 cups from 9 is: \n",
    "1.0 / math.comb(9,3)"
   ]
  },
  {
   "cell_type": "markdown",
   "id": "ec8deb2c",
   "metadata": {},
   "source": [
    "If we were to select correclty 3 cups out of 9, the chances to succeed would be of approx 1.19%"
   ]
  },
  {
   "cell_type": "code",
   "execution_count": 30,
   "id": "3230b438",
   "metadata": {},
   "outputs": [
    {
     "data": {
      "text/plain": [
       "120"
      ]
     },
     "execution_count": 30,
     "metadata": {},
     "output_type": "execute_result"
    }
   ],
   "source": [
    "# Number of ways of selecting 3 out of 9 cups.\n",
    "math.comb(10,3)"
   ]
  },
  {
   "cell_type": "code",
   "execution_count": 31,
   "id": "4f7208f6",
   "metadata": {},
   "outputs": [
    {
     "data": {
      "text/plain": [
       "0.008333333333333333"
      ]
     },
     "execution_count": 31,
     "metadata": {},
     "output_type": "execute_result"
    }
   ],
   "source": [
    "# Probability of randomly selecting correct 3 cups from 10 is: \n",
    "1.0 / math.comb(10,3)"
   ]
  },
  {
   "cell_type": "markdown",
   "id": "d0ca085c",
   "metadata": {},
   "source": [
    "If we were to select correclty 3 cups out of 10, the chances to succeed would be of approx 0.83%"
   ]
  },
  {
   "cell_type": "markdown",
   "id": "9cf94931",
   "metadata": {},
   "source": [
    "If I were to let the taster get one cup wrong while maintaining the 1% threshold, 9 or 10 cups would be presented to them and the 1% treshold should be respected"
   ]
  },
  {
   "cell_type": "markdown",
   "id": "45e30e22",
   "metadata": {},
   "source": [
    "<h3 style=\"color: #001a79;\">Exercise</h3>\n",
    "\n",
    "<hr style=\"border-top: 1px solid #001a79;\" />\n",
    "\n",
    "<i style=\"color: #001a79;\">Remember to do these exercises in your own notebook in your assessment repository.</i>\n",
    "\n",
    "Use <a href=\"https://docs.scipy.org/doc/scipy/reference/generated/scipy.stats.fisher_exact.html\" style=\"color: #ff791e\">scipy's version of Fisher's exact test</a> to simulate the Lady Tasting Tea problem."
   ]
  },
  {
   "cell_type": "markdown",
   "id": "ae141591",
   "metadata": {},
   "source": [
    "For this exercice we will simulate the Lady Tasting problem. Let's say the Lady guessed correctly 3 cups where milk was poured first. This would give the following contengency table: \n",
    "[(3,1), (1,3)]\n"
   ]
  },
  {
   "cell_type": "code",
   "execution_count": 43,
   "id": "2ac28e02",
   "metadata": {},
   "outputs": [
    {
     "name": "stdout",
     "output_type": "stream",
     "text": [
      "odd ratio is : 9.0\n",
      "p_value is : 0.48571428571428527\n"
     ]
    }
   ],
   "source": [
    "# Statistical methods.\n",
    "from scipy.stats import fisher_exact\n",
    "import itertools\n",
    "\n",
    "# Number of ways of selecting 4 out of 8 cups.\n",
    "# cups = list(range(8))\n",
    "\n",
    "# Analysing the example where the Lady guessed correctly 3 cups with milk poured first\n",
    "table = [[3,1],[1,3]]\n",
    "\n",
    "# Probability of randomly selecting correct 4 cups is: \n",
    "# poss = list(itertools.combinations(cups, 4))\n",
    "# poss\n",
    "odd_ratio, p_value = fisher_exact(table)\n",
    "print('odd ratio is : ' + str(odd_ratio))\n",
    "print('p_value is : ' + str(p_value))"
   ]
  },
  {
   "cell_type": "code",
   "execution_count": null,
   "id": "77cac3c8",
   "metadata": {},
   "outputs": [],
   "source": []
  },
  {
   "cell_type": "code",
   "execution_count": null,
   "id": "66360271",
   "metadata": {},
   "outputs": [],
   "source": []
  },
  {
   "cell_type": "code",
   "execution_count": null,
   "id": "dcb7c857",
   "metadata": {},
   "outputs": [],
   "source": []
  },
  {
   "cell_type": "code",
   "execution_count": null,
   "id": "f379e1df",
   "metadata": {},
   "outputs": [],
   "source": []
  },
  {
   "cell_type": "code",
   "execution_count": null,
   "id": "a2d09a62",
   "metadata": {},
   "outputs": [],
   "source": []
  },
  {
   "cell_type": "code",
   "execution_count": null,
   "id": "e84d4419",
   "metadata": {},
   "outputs": [],
   "source": []
  },
  {
   "cell_type": "code",
   "execution_count": null,
   "id": "5d81a68f",
   "metadata": {},
   "outputs": [],
   "source": []
  }
 ],
 "metadata": {
  "kernelspec": {
   "display_name": "Python 3 (ipykernel)",
   "language": "python",
   "name": "python3"
  },
  "language_info": {
   "codemirror_mode": {
    "name": "ipython",
    "version": 3
   },
   "file_extension": ".py",
   "mimetype": "text/x-python",
   "name": "python",
   "nbconvert_exporter": "python",
   "pygments_lexer": "ipython3",
   "version": "3.9.13"
  }
 },
 "nbformat": 4,
 "nbformat_minor": 5
}
